{
 "cells": [
  {
   "cell_type": "code",
   "execution_count": null,
   "id": "1a85a13a-b8a3-455c-908f-844cab092916",
   "metadata": {},
   "outputs": [],
   "source": [
    "#the data set is from : https://www.kaggle.com/c/house-prices-advanced-regression-techniques/data?select=sample_submission.csv"
   ]
  },
  {
   "cell_type": "code",
   "execution_count": null,
   "id": "a5d1cac6-7793-4ec3-89fb-e2cb52753349",
   "metadata": {},
   "outputs": [],
   "source": [
    "import plotly.io as pio\n",
    "\n",
    "pio.renderers.default = \"vscode+jupyterlab+notebook_connected\""
   ]
  },
  {
   "cell_type": "code",
   "execution_count": 37,
   "id": "be5669a7-e886-4a2a-87ac-49d7a25b4218",
   "metadata": {},
   "outputs": [],
   "source": [
    "# use panda first\n",
    "import pandas as pd\n",
    "\n",
    "# Load the data\n",
    "data = pd.read_csv('sample_submission.csv')  \n"
   ]
  },
  {
   "cell_type": "code",
   "execution_count": 39,
   "id": "8c45a14d-03e9-444e-b062-2bd10140d371",
   "metadata": {},
   "outputs": [
    {
     "name": "stdout",
     "output_type": "stream",
     "text": [
      "Mean: 179183.91824266256\n",
      "Median: 179208.665698449\n",
      "Mode: 174126.297156192\n"
     ]
    }
   ],
   "source": [
    "# Calculate statistics \n",
    "\n",
    "column_name = 'SalePrice'  \n",
    "mean_value = data['SalePrice'].mean()\n",
    "median_value = data['SalePrice'].median()\n",
    "mode_value = data['SalePrice'].mode()[0]  \n",
    "\n",
    "print(\"Mean:\", mean_value)\n",
    "print(\"Median:\", median_value)\n",
    "print(\"Mode:\", mode_value)"
   ]
  },
  {
   "cell_type": "code",
   "execution_count": 31,
   "id": "07fb5b9f-aabb-4782-889b-a2eea2f17278",
   "metadata": {},
   "outputs": [
    {
     "name": "stdout",
     "output_type": "stream",
     "text": [
      "Mean: 179183.91824266256\n",
      "Median: 179208.665698449\n",
      "Mode: 174388.867432503\n"
     ]
    }
   ],
   "source": [
    "# don't use panda\n",
    "\n",
    "import csv\n",
    "from statistics import mean, median\n",
    "\n",
    "# Read the CSV data into a list of dictionaries\n",
    "with open('sample_submission.csv', mode='r') as file:\n",
    "    reader = csv.DictReader(file)\n",
    "    data = [row for row in reader]\n",
    "\n",
    "# Convert data columns to lists of numbers for calculations\n",
    "column_name = 'SalePrice'  \n",
    "column_data = [float(row['SalePrice']) for row in data]\n",
    "\n",
    "# Calculate mean, median, and mode\n",
    "mean_value = mean(column_data)\n",
    "median_value = median(column_data)\n",
    "\n",
    "# Calculate mode by tracking counts in a dictionary\n",
    "counts = {}\n",
    "for value in column_data:\n",
    "    counts[value] = counts.get(value, 0) + 1\n",
    "mode_value = max(counts, key=counts.get)\n",
    "\n",
    "print(\"Mean:\", mean_value)\n",
    "print(\"Median:\", median_value)\n",
    "print(\"Mode:\", mode_value)"
   ]
  },
  {
   "cell_type": "code",
   "execution_count": null,
   "id": "8c7106bb-1f1f-4328-8a88-a4e8af6c9b1e",
   "metadata": {},
   "outputs": [],
   "source": [
    "#Visualization\n",
    "\n",
    "# Define the number of bins\n",
    "num_bins = 10\n",
    "min_value = int(data[SalePrice].min())\n",
    "max_value = int(data[SalePrice].max())\n",
    "bin_width = (max_value - min_value) / num_bins\n",
    "\n",
    "# Calculate frequencies\n",
    "bin_ranges = [(min_value + i * bin_width, min_value + (i + 1) * bin_width) for i in range(num_bins)]\n",
    "bin_counts = [0] * num_bins\n",
    "\n",
    "for value in data[SalePrice]:\n",
    "    for i, (bin_start, bin_end) in enumerate(bin_ranges):\n",
    "        if bin_start <= value < bin_end:\n",
    "            bin_counts[i] += 1\n",
    "            break\n",
    "\n",
    "# Display the text-based histogram\n",
    "print(\"\\nSalePrice Distribution (Text-based Histogram):\")\n",
    "for i, count in enumerate(bin_counts):\n",
    "    bin_start, bin_end = bin_ranges[i]\n",
    "    bar = '█' * (count // 10)  # Each '█' represents approximately 10 entries (adjust as needed)\n",
    "    print(f\"${int(bin_start):>6} - ${int(bin_end):>6} | {bar}\")"
   ]
  }
 ],
 "metadata": {
  "kernelspec": {
   "display_name": "Python 3 (ipykernel)",
   "language": "python",
   "name": "python3"
  },
  "language_info": {
   "codemirror_mode": {
    "name": "ipython",
    "version": 3
   },
   "file_extension": ".py",
   "mimetype": "text/x-python",
   "name": "python",
   "nbconvert_exporter": "python",
   "pygments_lexer": "ipython3",
   "version": "3.12.2"
  }
 },
 "nbformat": 4,
 "nbformat_minor": 5
}
